{
  "nbformat": 4,
  "nbformat_minor": 0,
  "metadata": {
    "colab": {
      "provenance": [],
      "authorship_tag": "ABX9TyN3Wk5x3P3ARHS9XUq1u2n5"
    },
    "kernelspec": {
      "name": "python3",
      "display_name": "Python 3"
    },
    "language_info": {
      "name": "python"
    }
  },
  "cells": [
    {
      "cell_type": "markdown",
      "source": [
        "Logan Margabandu\n",
        "lmm220012\n",
        "CS 4375.003 — Final Project\n",
        "\n",
        "Chess Positional Advisor\n"
      ],
      "metadata": {
        "id": "z2FUOTtku07-"
      }
    },
    {
      "cell_type": "markdown",
      "source": [
        "instal"
      ],
      "metadata": {
        "id": "iW4V4xLRwL4_"
      }
    },
    {
      "cell_type": "code",
      "source": [
        "!pip install python-chess chess #installing library for chess"
      ],
      "metadata": {
        "colab": {
          "base_uri": "https://localhost:8080/"
        },
        "id": "idMsHZWavAnZ",
        "outputId": "2bd0cd6b-5544-4c94-987b-6ed84eda9279"
      },
      "execution_count": 11,
      "outputs": [
        {
          "output_type": "stream",
          "name": "stdout",
          "text": [
            "Requirement already satisfied: python-chess in /usr/local/lib/python3.11/dist-packages (1.999)\n",
            "Requirement already satisfied: chess in /usr/local/lib/python3.11/dist-packages (1.11.2)\n"
          ]
        }
      ]
    },
    {
      "cell_type": "markdown",
      "source": [],
      "metadata": {
        "id": "yKbrdjVFwLBz"
      }
    },
    {
      "cell_type": "code",
      "source": [
        "from google.colab import drive # Mount GoogleDrive for PGN of Chess games\n",
        "drive.mount('/content/drive')\n",
        "\n",
        "pgn_file_path = '/content/drive/MyDrive/Chess-PGNs/Carlen.pgn' # Path to Chess-PGNs folder in my GoogleDrive Folder\n"
      ],
      "metadata": {
        "colab": {
          "base_uri": "https://localhost:8080/"
        },
        "id": "gh7ocjuHwKwl",
        "outputId": "1439859b-aefd-4312-97a2-5aeee837388d"
      },
      "execution_count": 5,
      "outputs": [
        {
          "output_type": "stream",
          "name": "stdout",
          "text": [
            "Drive already mounted at /content/drive; to attempt to forcibly remount, call drive.mount(\"/content/drive\", force_remount=True).\n"
          ]
        }
      ]
    },
    {
      "cell_type": "code",
      "source": [
        "import chess.pgn\n",
        "import os # For checking if file exists (optional good practice)\n",
        "\n",
        "# --- ACTION REQUIRED: UPDATE THIS PATH ---\n",
        "# Replace 'your_actual_pgn_file.pgn' with the real name of ONE of your PGN files.\n",
        "# This file should be inside the 'Chess-PGNs' folder in your Google Drive.\n",
        "pgn_file_name = 'Carlsen.pgn' # e.g., 'lichess_elite_2023-10.pgn'\n",
        "pgn_folder_path = '/content/drive/MyDrive/Chess-PGNs/'\n",
        "pgn_file_path = os.path.join(pgn_folder_path, pgn_file_name)\n",
        "\n",
        "print(f\"Attempting to access PGN file at: {pgn_file_path}\\n\")\n",
        "\n",
        "try:\n",
        "    if not os.path.exists(pgn_file_path):\n",
        "        raise FileNotFoundError(f\"The file was not found at the specified path: {pgn_file_path}. Please check folder and file names (case-sensitive) and ensure Google Drive is mounted.\")\n",
        "\n",
        "    with open(pgn_file_path) as pgn:\n",
        "        # Try to read the first game from the PGN file\n",
        "        game = chess.pgn.read_game(pgn)\n",
        "\n",
        "        if game:\n",
        "            board = game.board() # Get the game's starting board position\n",
        "            print(\"Successfully read a game!\")\n",
        "            print(\"Game Headers (information about the game):\")\n",
        "            for header, value in game.headers.items():\n",
        "                print(f\"  {header}: {value}\")\n",
        "\n",
        "            print(\"\\nIterating through the first few moves of the main line (if any):\")\n",
        "            move_count = 0\n",
        "            for move in game.mainline_moves():\n",
        "                if move_count < 5: # Let's just print info for the first 5 moves for this quick check\n",
        "                    print(f\"  FEN before move {move_count + 1} ('{board.san(move)}' which is uci: '{move.uci()}'): {board.fen()}\")\n",
        "                    board.push(move) # Make the move on our board object\n",
        "                    move_count += 1\n",
        "                else:\n",
        "                    break # Stop after 5 moves for this brief check\n",
        "\n",
        "            if move_count > 0:\n",
        "                print(f\"  FEN after {move_count} moves: {board.fen()}\")\n",
        "            else:\n",
        "                print(\"  No moves found in the mainline of this game to display for this quick check.\")\n",
        "\n",
        "        else:\n",
        "            print(f\"Could not read a game from the PGN file: {pgn_file_path}\")\n",
        "            print(\"Possible reasons: The file might be empty, not a valid PGN format, or the path is incorrect even if the file exists.\")\n",
        "\n",
        "except FileNotFoundError as fnf_error:\n",
        "    print(f\"ERROR: {fnf_error}\")\n",
        "    print(\"Tips: \")\n",
        "    print(\"1. Ensure Google Drive is mounted (run cell above).\")\n",
        "    print(\"2. Double-check the EXACT spelling and case of your folder ('Chess-PGNs') and file name.\")\n",
        "    print(\"3. Make sure the file is indeed in that folder in your Google Drive.\")\n",
        "except Exception as e:\n",
        "    print(f\"An unexpected error occurred: {e}\")\n",
        "    print(\"This could be due to various issues with the PGN file content or other problems.\")"
      ],
      "metadata": {
        "id": "VGPmBOZvxdxn",
        "colab": {
          "base_uri": "https://localhost:8080/"
        },
        "outputId": "83ed1158-99a6-4a80-e14d-13ecdee23870"
      },
      "execution_count": 12,
      "outputs": [
        {
          "output_type": "stream",
          "name": "stdout",
          "text": [
            "Attempting to access PGN file at: /content/drive/MyDrive/Chess-PGNs/Carlsen.pgn\n",
            "\n",
            "Successfully read a game!\n",
            "Game Headers (information about the game):\n",
            "  Event: Troll Masters\n",
            "  Site: Gausdal NOR\n",
            "  Date: 2001.01.05\n",
            "  Round: 1\n",
            "  White: Edvardsen,R\n",
            "  Black: Carlsen,Magnus\n",
            "  Result: 1/2-1/2\n",
            "  WhiteElo: 2055\n",
            "  BlackElo: \n",
            "  ECO: D12\n",
            "\n",
            "Iterating through the first few moves of the main line (if any):\n",
            "  FEN before move 1 ('d4' which is uci: 'd2d4'): rnbqkbnr/pppppppp/8/8/8/8/PPPPPPPP/RNBQKBNR w KQkq - 0 1\n",
            "  FEN before move 2 ('Nf6' which is uci: 'g8f6'): rnbqkbnr/pppppppp/8/8/3P4/8/PPP1PPPP/RNBQKBNR b KQkq - 0 1\n",
            "  FEN before move 3 ('Nf3' which is uci: 'g1f3'): rnbqkb1r/pppppppp/5n2/8/3P4/8/PPP1PPPP/RNBQKBNR w KQkq - 1 2\n",
            "  FEN before move 4 ('d5' which is uci: 'd7d5'): rnbqkb1r/pppppppp/5n2/8/3P4/5N2/PPP1PPPP/RNBQKB1R b KQkq - 2 2\n",
            "  FEN before move 5 ('e3' which is uci: 'e2e3'): rnbqkb1r/ppp1pppp/5n2/3p4/3P4/5N2/PPP1PPPP/RNBQKB1R w KQkq - 0 3\n",
            "  FEN after 5 moves: rnbqkb1r/ppp1pppp/5n2/3p4/3P4/4PN2/PPP2PPP/RNBQKB1R b KQkq - 0 3\n"
          ]
        }
      ]
    }
  ]
}